{
  "nbformat": 4,
  "nbformat_minor": 0,
  "metadata": {
    "colab": {
      "provenance": [],
      "authorship_tag": "ABX9TyPNDUrTgME2AcaiQ2nbMvrl",
      "include_colab_link": true
    },
    "kernelspec": {
      "name": "python3",
      "display_name": "Python 3"
    },
    "language_info": {
      "name": "python"
    }
  },
  "cells": [
    {
      "cell_type": "markdown",
      "metadata": {
        "id": "view-in-github",
        "colab_type": "text"
      },
      "source": [
        "<a href=\"https://colab.research.google.com/github/ddenebb/ML_regressions/blob/main/Tasca_M6_T01.ipynb\" target=\"_parent\"><img src=\"https://colab.research.google.com/assets/colab-badge.svg\" alt=\"Open In Colab\"/></a>"
      ]
    },
    {
      "cell_type": "markdown",
      "source": [
        "#- Exercise 1\n",
        "\n",
        "Create at least two different regression models to try to better predict the house price (MEDV) in the attachment."
      ],
      "metadata": {
        "id": "zZZUCJHb7-ob"
      }
    },
    {
      "cell_type": "code",
      "execution_count": 1,
      "metadata": {
        "colab": {
          "base_uri": "https://localhost:8080/"
        },
        "id": "tUPPXD3Hat7h",
        "outputId": "0ed01deb-8fd8-4c2e-b7e6-22255ac5bddc"
      },
      "outputs": [
        {
          "output_type": "stream",
          "name": "stdout",
          "text": [
            "Mounted at /content/drive\n"
          ]
        }
      ],
      "source": [
        "from google.colab import drive\n",
        "drive.mount('/content/drive')\n",
        "images_dir = '/content/gdrive/My Drive/Images'"
      ]
    },
    {
      "cell_type": "markdown",
      "source": [],
      "metadata": {
        "id": "f_849mnOetBd"
      }
    },
    {
      "cell_type": "code",
      "source": [
        "# importing libraries\n",
        "import numpy as np\n",
        "import pandas as pd\n",
        "import matplotlib.pyplot as plt\n",
        "import seaborn as sns\n",
        "from scipy.stats import ttest_ind\n",
        "import warnings\n",
        "\n",
        "warnings.filterwarnings('ignore')\n",
        "\n",
        "path = \"/content/drive/MyDrive/Google Colab DS IT Academy/Sprint 5/Data/housing data.csv\"\n",
        "col_names = [\"CRIM\", \"ZN\", \"INDUS\", \"CHAS\", \"NOX\", \"RM\", \"AGE\", \"DIS\", \"RAD\", \"TAX\", \"PTRATIO\", \"B\", \"LSTAT\", \"MEDV\"]\n",
        "df = pd.read_csv(path, names=col_names)\n",
        "print(df.info(memory_usage='deep'))\n",
        "df"
      ],
      "metadata": {
        "colab": {
          "base_uri": "https://localhost:8080/",
          "height": 828
        },
        "id": "USlHy3o9euQ1",
        "outputId": "a4781116-132b-408e-ec00-6286ecc3f5ab"
      },
      "execution_count": 2,
      "outputs": [
        {
          "output_type": "stream",
          "name": "stdout",
          "text": [
            "<class 'pandas.core.frame.DataFrame'>\n",
            "RangeIndex: 506 entries, 0 to 505\n",
            "Data columns (total 14 columns):\n",
            " #   Column   Non-Null Count  Dtype  \n",
            "---  ------   --------------  -----  \n",
            " 0   CRIM     506 non-null    float64\n",
            " 1   ZN       506 non-null    float64\n",
            " 2   INDUS    506 non-null    float64\n",
            " 3   CHAS     506 non-null    int64  \n",
            " 4   NOX      506 non-null    float64\n",
            " 5   RM       506 non-null    float64\n",
            " 6   AGE      506 non-null    float64\n",
            " 7   DIS      506 non-null    float64\n",
            " 8   RAD      506 non-null    int64  \n",
            " 9   TAX      506 non-null    float64\n",
            " 10  PTRATIO  506 non-null    float64\n",
            " 11  B        506 non-null    float64\n",
            " 12  LSTAT    506 non-null    float64\n",
            " 13  MEDV     506 non-null    float64\n",
            "dtypes: float64(12), int64(2)\n",
            "memory usage: 55.5 KB\n",
            "None\n"
          ]
        },
        {
          "output_type": "execute_result",
          "data": {
            "text/plain": [
              "        CRIM    ZN  INDUS  CHAS    NOX     RM   AGE     DIS  RAD    TAX  \\\n",
              "0    0.00632  18.0   2.31     0  0.538  6.575  65.2  4.0900    1  296.0   \n",
              "1    0.02731   0.0   7.07     0  0.469  6.421  78.9  4.9671    2  242.0   \n",
              "2    0.02729   0.0   7.07     0  0.469  7.185  61.1  4.9671    2  242.0   \n",
              "3    0.03237   0.0   2.18     0  0.458  6.998  45.8  6.0622    3  222.0   \n",
              "4    0.06905   0.0   2.18     0  0.458  7.147  54.2  6.0622    3  222.0   \n",
              "..       ...   ...    ...   ...    ...    ...   ...     ...  ...    ...   \n",
              "501  0.06263   0.0  11.93     0  0.573  6.593  69.1  2.4786    1  273.0   \n",
              "502  0.04527   0.0  11.93     0  0.573  6.120  76.7  2.2875    1  273.0   \n",
              "503  0.06076   0.0  11.93     0  0.573  6.976  91.0  2.1675    1  273.0   \n",
              "504  0.10959   0.0  11.93     0  0.573  6.794  89.3  2.3889    1  273.0   \n",
              "505  0.04741   0.0  11.93     0  0.573  6.030  80.8  2.5050    1  273.0   \n",
              "\n",
              "     PTRATIO       B  LSTAT  MEDV  \n",
              "0       15.3  396.90   4.98  24.0  \n",
              "1       17.8  396.90   9.14  21.6  \n",
              "2       17.8  392.83   4.03  34.7  \n",
              "3       18.7  394.63   2.94  33.4  \n",
              "4       18.7  396.90   5.33  36.2  \n",
              "..       ...     ...    ...   ...  \n",
              "501     21.0  391.99   9.67  22.4  \n",
              "502     21.0  396.90   9.08  20.6  \n",
              "503     21.0  396.90   5.64  23.9  \n",
              "504     21.0  393.45   6.48  22.0  \n",
              "505     21.0  396.90   7.88  11.9  \n",
              "\n",
              "[506 rows x 14 columns]"
            ],
            "text/html": [
              "\n",
              "  <div id=\"df-18bc17cb-9aac-4834-bfc9-ca6612c3b924\">\n",
              "    <div class=\"colab-df-container\">\n",
              "      <div>\n",
              "<style scoped>\n",
              "    .dataframe tbody tr th:only-of-type {\n",
              "        vertical-align: middle;\n",
              "    }\n",
              "\n",
              "    .dataframe tbody tr th {\n",
              "        vertical-align: top;\n",
              "    }\n",
              "\n",
              "    .dataframe thead th {\n",
              "        text-align: right;\n",
              "    }\n",
              "</style>\n",
              "<table border=\"1\" class=\"dataframe\">\n",
              "  <thead>\n",
              "    <tr style=\"text-align: right;\">\n",
              "      <th></th>\n",
              "      <th>CRIM</th>\n",
              "      <th>ZN</th>\n",
              "      <th>INDUS</th>\n",
              "      <th>CHAS</th>\n",
              "      <th>NOX</th>\n",
              "      <th>RM</th>\n",
              "      <th>AGE</th>\n",
              "      <th>DIS</th>\n",
              "      <th>RAD</th>\n",
              "      <th>TAX</th>\n",
              "      <th>PTRATIO</th>\n",
              "      <th>B</th>\n",
              "      <th>LSTAT</th>\n",
              "      <th>MEDV</th>\n",
              "    </tr>\n",
              "  </thead>\n",
              "  <tbody>\n",
              "    <tr>\n",
              "      <th>0</th>\n",
              "      <td>0.00632</td>\n",
              "      <td>18.0</td>\n",
              "      <td>2.31</td>\n",
              "      <td>0</td>\n",
              "      <td>0.538</td>\n",
              "      <td>6.575</td>\n",
              "      <td>65.2</td>\n",
              "      <td>4.0900</td>\n",
              "      <td>1</td>\n",
              "      <td>296.0</td>\n",
              "      <td>15.3</td>\n",
              "      <td>396.90</td>\n",
              "      <td>4.98</td>\n",
              "      <td>24.0</td>\n",
              "    </tr>\n",
              "    <tr>\n",
              "      <th>1</th>\n",
              "      <td>0.02731</td>\n",
              "      <td>0.0</td>\n",
              "      <td>7.07</td>\n",
              "      <td>0</td>\n",
              "      <td>0.469</td>\n",
              "      <td>6.421</td>\n",
              "      <td>78.9</td>\n",
              "      <td>4.9671</td>\n",
              "      <td>2</td>\n",
              "      <td>242.0</td>\n",
              "      <td>17.8</td>\n",
              "      <td>396.90</td>\n",
              "      <td>9.14</td>\n",
              "      <td>21.6</td>\n",
              "    </tr>\n",
              "    <tr>\n",
              "      <th>2</th>\n",
              "      <td>0.02729</td>\n",
              "      <td>0.0</td>\n",
              "      <td>7.07</td>\n",
              "      <td>0</td>\n",
              "      <td>0.469</td>\n",
              "      <td>7.185</td>\n",
              "      <td>61.1</td>\n",
              "      <td>4.9671</td>\n",
              "      <td>2</td>\n",
              "      <td>242.0</td>\n",
              "      <td>17.8</td>\n",
              "      <td>392.83</td>\n",
              "      <td>4.03</td>\n",
              "      <td>34.7</td>\n",
              "    </tr>\n",
              "    <tr>\n",
              "      <th>3</th>\n",
              "      <td>0.03237</td>\n",
              "      <td>0.0</td>\n",
              "      <td>2.18</td>\n",
              "      <td>0</td>\n",
              "      <td>0.458</td>\n",
              "      <td>6.998</td>\n",
              "      <td>45.8</td>\n",
              "      <td>6.0622</td>\n",
              "      <td>3</td>\n",
              "      <td>222.0</td>\n",
              "      <td>18.7</td>\n",
              "      <td>394.63</td>\n",
              "      <td>2.94</td>\n",
              "      <td>33.4</td>\n",
              "    </tr>\n",
              "    <tr>\n",
              "      <th>4</th>\n",
              "      <td>0.06905</td>\n",
              "      <td>0.0</td>\n",
              "      <td>2.18</td>\n",
              "      <td>0</td>\n",
              "      <td>0.458</td>\n",
              "      <td>7.147</td>\n",
              "      <td>54.2</td>\n",
              "      <td>6.0622</td>\n",
              "      <td>3</td>\n",
              "      <td>222.0</td>\n",
              "      <td>18.7</td>\n",
              "      <td>396.90</td>\n",
              "      <td>5.33</td>\n",
              "      <td>36.2</td>\n",
              "    </tr>\n",
              "    <tr>\n",
              "      <th>...</th>\n",
              "      <td>...</td>\n",
              "      <td>...</td>\n",
              "      <td>...</td>\n",
              "      <td>...</td>\n",
              "      <td>...</td>\n",
              "      <td>...</td>\n",
              "      <td>...</td>\n",
              "      <td>...</td>\n",
              "      <td>...</td>\n",
              "      <td>...</td>\n",
              "      <td>...</td>\n",
              "      <td>...</td>\n",
              "      <td>...</td>\n",
              "      <td>...</td>\n",
              "    </tr>\n",
              "    <tr>\n",
              "      <th>501</th>\n",
              "      <td>0.06263</td>\n",
              "      <td>0.0</td>\n",
              "      <td>11.93</td>\n",
              "      <td>0</td>\n",
              "      <td>0.573</td>\n",
              "      <td>6.593</td>\n",
              "      <td>69.1</td>\n",
              "      <td>2.4786</td>\n",
              "      <td>1</td>\n",
              "      <td>273.0</td>\n",
              "      <td>21.0</td>\n",
              "      <td>391.99</td>\n",
              "      <td>9.67</td>\n",
              "      <td>22.4</td>\n",
              "    </tr>\n",
              "    <tr>\n",
              "      <th>502</th>\n",
              "      <td>0.04527</td>\n",
              "      <td>0.0</td>\n",
              "      <td>11.93</td>\n",
              "      <td>0</td>\n",
              "      <td>0.573</td>\n",
              "      <td>6.120</td>\n",
              "      <td>76.7</td>\n",
              "      <td>2.2875</td>\n",
              "      <td>1</td>\n",
              "      <td>273.0</td>\n",
              "      <td>21.0</td>\n",
              "      <td>396.90</td>\n",
              "      <td>9.08</td>\n",
              "      <td>20.6</td>\n",
              "    </tr>\n",
              "    <tr>\n",
              "      <th>503</th>\n",
              "      <td>0.06076</td>\n",
              "      <td>0.0</td>\n",
              "      <td>11.93</td>\n",
              "      <td>0</td>\n",
              "      <td>0.573</td>\n",
              "      <td>6.976</td>\n",
              "      <td>91.0</td>\n",
              "      <td>2.1675</td>\n",
              "      <td>1</td>\n",
              "      <td>273.0</td>\n",
              "      <td>21.0</td>\n",
              "      <td>396.90</td>\n",
              "      <td>5.64</td>\n",
              "      <td>23.9</td>\n",
              "    </tr>\n",
              "    <tr>\n",
              "      <th>504</th>\n",
              "      <td>0.10959</td>\n",
              "      <td>0.0</td>\n",
              "      <td>11.93</td>\n",
              "      <td>0</td>\n",
              "      <td>0.573</td>\n",
              "      <td>6.794</td>\n",
              "      <td>89.3</td>\n",
              "      <td>2.3889</td>\n",
              "      <td>1</td>\n",
              "      <td>273.0</td>\n",
              "      <td>21.0</td>\n",
              "      <td>393.45</td>\n",
              "      <td>6.48</td>\n",
              "      <td>22.0</td>\n",
              "    </tr>\n",
              "    <tr>\n",
              "      <th>505</th>\n",
              "      <td>0.04741</td>\n",
              "      <td>0.0</td>\n",
              "      <td>11.93</td>\n",
              "      <td>0</td>\n",
              "      <td>0.573</td>\n",
              "      <td>6.030</td>\n",
              "      <td>80.8</td>\n",
              "      <td>2.5050</td>\n",
              "      <td>1</td>\n",
              "      <td>273.0</td>\n",
              "      <td>21.0</td>\n",
              "      <td>396.90</td>\n",
              "      <td>7.88</td>\n",
              "      <td>11.9</td>\n",
              "    </tr>\n",
              "  </tbody>\n",
              "</table>\n",
              "<p>506 rows × 14 columns</p>\n",
              "</div>\n",
              "      <button class=\"colab-df-convert\" onclick=\"convertToInteractive('df-18bc17cb-9aac-4834-bfc9-ca6612c3b924')\"\n",
              "              title=\"Convert this dataframe to an interactive table.\"\n",
              "              style=\"display:none;\">\n",
              "        \n",
              "  <svg xmlns=\"http://www.w3.org/2000/svg\" height=\"24px\"viewBox=\"0 0 24 24\"\n",
              "       width=\"24px\">\n",
              "    <path d=\"M0 0h24v24H0V0z\" fill=\"none\"/>\n",
              "    <path d=\"M18.56 5.44l.94 2.06.94-2.06 2.06-.94-2.06-.94-.94-2.06-.94 2.06-2.06.94zm-11 1L8.5 8.5l.94-2.06 2.06-.94-2.06-.94L8.5 2.5l-.94 2.06-2.06.94zm10 10l.94 2.06.94-2.06 2.06-.94-2.06-.94-.94-2.06-.94 2.06-2.06.94z\"/><path d=\"M17.41 7.96l-1.37-1.37c-.4-.4-.92-.59-1.43-.59-.52 0-1.04.2-1.43.59L10.3 9.45l-7.72 7.72c-.78.78-.78 2.05 0 2.83L4 21.41c.39.39.9.59 1.41.59.51 0 1.02-.2 1.41-.59l7.78-7.78 2.81-2.81c.8-.78.8-2.07 0-2.86zM5.41 20L4 18.59l7.72-7.72 1.47 1.35L5.41 20z\"/>\n",
              "  </svg>\n",
              "      </button>\n",
              "      \n",
              "  <style>\n",
              "    .colab-df-container {\n",
              "      display:flex;\n",
              "      flex-wrap:wrap;\n",
              "      gap: 12px;\n",
              "    }\n",
              "\n",
              "    .colab-df-convert {\n",
              "      background-color: #E8F0FE;\n",
              "      border: none;\n",
              "      border-radius: 50%;\n",
              "      cursor: pointer;\n",
              "      display: none;\n",
              "      fill: #1967D2;\n",
              "      height: 32px;\n",
              "      padding: 0 0 0 0;\n",
              "      width: 32px;\n",
              "    }\n",
              "\n",
              "    .colab-df-convert:hover {\n",
              "      background-color: #E2EBFA;\n",
              "      box-shadow: 0px 1px 2px rgba(60, 64, 67, 0.3), 0px 1px 3px 1px rgba(60, 64, 67, 0.15);\n",
              "      fill: #174EA6;\n",
              "    }\n",
              "\n",
              "    [theme=dark] .colab-df-convert {\n",
              "      background-color: #3B4455;\n",
              "      fill: #D2E3FC;\n",
              "    }\n",
              "\n",
              "    [theme=dark] .colab-df-convert:hover {\n",
              "      background-color: #434B5C;\n",
              "      box-shadow: 0px 1px 3px 1px rgba(0, 0, 0, 0.15);\n",
              "      filter: drop-shadow(0px 1px 2px rgba(0, 0, 0, 0.3));\n",
              "      fill: #FFFFFF;\n",
              "    }\n",
              "  </style>\n",
              "\n",
              "      <script>\n",
              "        const buttonEl =\n",
              "          document.querySelector('#df-18bc17cb-9aac-4834-bfc9-ca6612c3b924 button.colab-df-convert');\n",
              "        buttonEl.style.display =\n",
              "          google.colab.kernel.accessAllowed ? 'block' : 'none';\n",
              "\n",
              "        async function convertToInteractive(key) {\n",
              "          const element = document.querySelector('#df-18bc17cb-9aac-4834-bfc9-ca6612c3b924');\n",
              "          const dataTable =\n",
              "            await google.colab.kernel.invokeFunction('convertToInteractive',\n",
              "                                                     [key], {});\n",
              "          if (!dataTable) return;\n",
              "\n",
              "          const docLinkHtml = 'Like what you see? Visit the ' +\n",
              "            '<a target=\"_blank\" href=https://colab.research.google.com/notebooks/data_table.ipynb>data table notebook</a>'\n",
              "            + ' to learn more about interactive tables.';\n",
              "          element.innerHTML = '';\n",
              "          dataTable['output_type'] = 'display_data';\n",
              "          await google.colab.output.renderOutput(dataTable, element);\n",
              "          const docLink = document.createElement('div');\n",
              "          docLink.innerHTML = docLinkHtml;\n",
              "          element.appendChild(docLink);\n",
              "        }\n",
              "      </script>\n",
              "    </div>\n",
              "  </div>\n",
              "  "
            ]
          },
          "metadata": {},
          "execution_count": 2
        }
      ]
    },
    {
      "cell_type": "code",
      "source": [
        "from sklearn.model_selection import train_test_split\n",
        "\n",
        "X = df.drop(\"MEDV\", axis=1) # attributes\n",
        "y = df[\"MEDV\"] # target variable \n",
        "\n",
        "X_list = list(X.columns)\n",
        "X = np.array(X)\n",
        "\n",
        "X_train, X_test, y_train, y_test = train_test_split(X, y, test_size=0.2, random_state=42)"
      ],
      "metadata": {
        "id": "CungH0Tf1PIr"
      },
      "execution_count": 16,
      "outputs": []
    },
    {
      "cell_type": "code",
      "source": [
        "X_train_df = pd.DataFrame(X_train, columns=X_list)\n",
        "X_test_df = pd.DataFrame(X_test, columns=X_list)\n",
        "y_train_df = pd.DataFrame(y_train, columns=['MEDV'])\n",
        "y_test_df = pd.DataFrame(y_test, columns=['MEDV'])"
      ],
      "metadata": {
        "id": "gS9coN-u1Gy0"
      },
      "execution_count": 17,
      "outputs": []
    },
    {
      "cell_type": "code",
      "source": [
        "from sklearn.preprocessing import StandardScaler, RobustScaler\n",
        "import numpy as np\n",
        "\n",
        "# normalize columns 'INDUS', 'NOX', 'AGE', 'RAD', 'TAX'\n",
        "X_train_norm = X_train.copy()\n",
        "cols_to_norm = ['INDUS', 'NOX', 'AGE', 'RAD', 'TAX']\n",
        "index_cols_to_norm = [X_list.index(col) for col in cols_to_norm]\n",
        "\n",
        "scaler = StandardScaler()\n",
        "X_train_norm[:, index_cols_to_norm] = scaler.fit_transform(X_train_norm[:, index_cols_to_norm])\n",
        "\n",
        "# robust scale columns 'CRIM', 'ZN', 'RM', 'DIS', 'PTRATIO', 'B', 'LSTAT'\n",
        "X_train_robust = X_train_norm.copy()\n",
        "cols_to_robust = ['CRIM', 'ZN', 'RM', 'DIS', 'PTRATIO', 'B', 'LSTAT']\n",
        "index_cols_to_robust = [X_list.index(col) for col in cols_to_robust]\n",
        "\n",
        "scaler = RobustScaler()\n",
        "X_train_robust[:, index_cols_to_robust] = scaler.fit_transform(X_train_robust[:, index_cols_to_robust])\n",
        "\n",
        "# reshape y_train to 2-dimensional array\n",
        "y_train = y_train.to_numpy()\n",
        "y_train = y_train.reshape(-1,1)"
      ],
      "metadata": {
        "id": "9XkPCTpNXFsN"
      },
      "execution_count": 18,
      "outputs": []
    },
    {
      "cell_type": "code",
      "source": [
        "X_train_processed_df = pd.DataFrame(X_train_robust, columns=X_list)\n",
        "X_train_processed_df"
      ],
      "metadata": {
        "colab": {
          "base_uri": "https://localhost:8080/",
          "height": 424
        },
        "id": "ZS8RnpA2XNom",
        "outputId": "cb1d6cb9-c240-4e6a-9504-efff99fabf1e"
      },
      "execution_count": 19,
      "outputs": [
        {
          "output_type": "execute_result",
          "data": {
            "text/plain": [
              "         CRIM    ZN     INDUS  CHAS       NOX        RM       AGE       DIS  \\\n",
              "0    4.729102  0.00  1.033237   0.0  0.489252 -1.214070  1.028015 -0.324502   \n",
              "1    0.117250  0.00 -0.413160   0.0 -0.157233 -0.503853 -0.431199  0.399300   \n",
              "2   -0.072634  1.75 -0.715218   0.0 -1.008723 -0.239866 -1.618599  1.045888   \n",
              "3    2.174908  0.00  1.033237   0.0  0.489252 -0.143384  0.591681 -0.348318   \n",
              "4    0.148777  0.00 -0.413160   0.0 -0.157233 -0.647236  0.033747  0.187372   \n",
              "..        ...   ...       ...   ...       ...       ...       ...       ...   \n",
              "399 -0.028893  0.00 -0.352167   0.0 -0.310348 -0.501173  0.834884 -0.291208   \n",
              "400  0.012100  1.00 -0.584520   0.0 -0.786706 -0.474372 -0.946216  0.378291   \n",
              "401 -0.078929  4.00 -1.303361   0.0 -1.033391  0.569514 -1.389703  1.560026   \n",
              "402  3.491566  0.00  1.033237   0.0  1.561057  0.561474  0.931450 -0.317257   \n",
              "403 -0.010453  0.00 -0.352167   0.0 -0.310348  0.261307  0.602411 -0.139167   \n",
              "\n",
              "          RAD       TAX   PTRATIO          B     LSTAT  \n",
              "0    1.706891  1.578434  0.441176  -2.062123  1.456771  \n",
              "1   -0.624360 -0.584648  0.676471   0.212745 -0.255729  \n",
              "2   -0.974048 -0.602724 -0.529412  -1.432516 -0.322396  \n",
              "3    1.706891  1.578434  0.441176 -19.168495  1.288021  \n",
              "4   -0.624360 -0.584648  0.676471  -0.017503  0.036979  \n",
              "..        ...       ...       ...        ...       ...  \n",
              "399 -0.507797 -0.120700  0.647059   0.215210  0.805729  \n",
              "400 -0.740922 -1.090773 -0.029412  -0.130901  0.216146  \n",
              "401 -0.624360 -0.747331 -0.500000  -0.017996 -0.514062  \n",
              "402  1.706891  1.578434  0.441176 -13.876741  1.285937  \n",
              "403 -0.507797 -0.120700  0.647059 -15.802046 -0.030729  \n",
              "\n",
              "[404 rows x 13 columns]"
            ],
            "text/html": [
              "\n",
              "  <div id=\"df-d25eedd1-4e96-4a4c-804e-3b504c9b73ad\">\n",
              "    <div class=\"colab-df-container\">\n",
              "      <div>\n",
              "<style scoped>\n",
              "    .dataframe tbody tr th:only-of-type {\n",
              "        vertical-align: middle;\n",
              "    }\n",
              "\n",
              "    .dataframe tbody tr th {\n",
              "        vertical-align: top;\n",
              "    }\n",
              "\n",
              "    .dataframe thead th {\n",
              "        text-align: right;\n",
              "    }\n",
              "</style>\n",
              "<table border=\"1\" class=\"dataframe\">\n",
              "  <thead>\n",
              "    <tr style=\"text-align: right;\">\n",
              "      <th></th>\n",
              "      <th>CRIM</th>\n",
              "      <th>ZN</th>\n",
              "      <th>INDUS</th>\n",
              "      <th>CHAS</th>\n",
              "      <th>NOX</th>\n",
              "      <th>RM</th>\n",
              "      <th>AGE</th>\n",
              "      <th>DIS</th>\n",
              "      <th>RAD</th>\n",
              "      <th>TAX</th>\n",
              "      <th>PTRATIO</th>\n",
              "      <th>B</th>\n",
              "      <th>LSTAT</th>\n",
              "    </tr>\n",
              "  </thead>\n",
              "  <tbody>\n",
              "    <tr>\n",
              "      <th>0</th>\n",
              "      <td>4.729102</td>\n",
              "      <td>0.00</td>\n",
              "      <td>1.033237</td>\n",
              "      <td>0.0</td>\n",
              "      <td>0.489252</td>\n",
              "      <td>-1.214070</td>\n",
              "      <td>1.028015</td>\n",
              "      <td>-0.324502</td>\n",
              "      <td>1.706891</td>\n",
              "      <td>1.578434</td>\n",
              "      <td>0.441176</td>\n",
              "      <td>-2.062123</td>\n",
              "      <td>1.456771</td>\n",
              "    </tr>\n",
              "    <tr>\n",
              "      <th>1</th>\n",
              "      <td>0.117250</td>\n",
              "      <td>0.00</td>\n",
              "      <td>-0.413160</td>\n",
              "      <td>0.0</td>\n",
              "      <td>-0.157233</td>\n",
              "      <td>-0.503853</td>\n",
              "      <td>-0.431199</td>\n",
              "      <td>0.399300</td>\n",
              "      <td>-0.624360</td>\n",
              "      <td>-0.584648</td>\n",
              "      <td>0.676471</td>\n",
              "      <td>0.212745</td>\n",
              "      <td>-0.255729</td>\n",
              "    </tr>\n",
              "    <tr>\n",
              "      <th>2</th>\n",
              "      <td>-0.072634</td>\n",
              "      <td>1.75</td>\n",
              "      <td>-0.715218</td>\n",
              "      <td>0.0</td>\n",
              "      <td>-1.008723</td>\n",
              "      <td>-0.239866</td>\n",
              "      <td>-1.618599</td>\n",
              "      <td>1.045888</td>\n",
              "      <td>-0.974048</td>\n",
              "      <td>-0.602724</td>\n",
              "      <td>-0.529412</td>\n",
              "      <td>-1.432516</td>\n",
              "      <td>-0.322396</td>\n",
              "    </tr>\n",
              "    <tr>\n",
              "      <th>3</th>\n",
              "      <td>2.174908</td>\n",
              "      <td>0.00</td>\n",
              "      <td>1.033237</td>\n",
              "      <td>0.0</td>\n",
              "      <td>0.489252</td>\n",
              "      <td>-0.143384</td>\n",
              "      <td>0.591681</td>\n",
              "      <td>-0.348318</td>\n",
              "      <td>1.706891</td>\n",
              "      <td>1.578434</td>\n",
              "      <td>0.441176</td>\n",
              "      <td>-19.168495</td>\n",
              "      <td>1.288021</td>\n",
              "    </tr>\n",
              "    <tr>\n",
              "      <th>4</th>\n",
              "      <td>0.148777</td>\n",
              "      <td>0.00</td>\n",
              "      <td>-0.413160</td>\n",
              "      <td>0.0</td>\n",
              "      <td>-0.157233</td>\n",
              "      <td>-0.647236</td>\n",
              "      <td>0.033747</td>\n",
              "      <td>0.187372</td>\n",
              "      <td>-0.624360</td>\n",
              "      <td>-0.584648</td>\n",
              "      <td>0.676471</td>\n",
              "      <td>-0.017503</td>\n",
              "      <td>0.036979</td>\n",
              "    </tr>\n",
              "    <tr>\n",
              "      <th>...</th>\n",
              "      <td>...</td>\n",
              "      <td>...</td>\n",
              "      <td>...</td>\n",
              "      <td>...</td>\n",
              "      <td>...</td>\n",
              "      <td>...</td>\n",
              "      <td>...</td>\n",
              "      <td>...</td>\n",
              "      <td>...</td>\n",
              "      <td>...</td>\n",
              "      <td>...</td>\n",
              "      <td>...</td>\n",
              "      <td>...</td>\n",
              "    </tr>\n",
              "    <tr>\n",
              "      <th>399</th>\n",
              "      <td>-0.028893</td>\n",
              "      <td>0.00</td>\n",
              "      <td>-0.352167</td>\n",
              "      <td>0.0</td>\n",
              "      <td>-0.310348</td>\n",
              "      <td>-0.501173</td>\n",
              "      <td>0.834884</td>\n",
              "      <td>-0.291208</td>\n",
              "      <td>-0.507797</td>\n",
              "      <td>-0.120700</td>\n",
              "      <td>0.647059</td>\n",
              "      <td>0.215210</td>\n",
              "      <td>0.805729</td>\n",
              "    </tr>\n",
              "    <tr>\n",
              "      <th>400</th>\n",
              "      <td>0.012100</td>\n",
              "      <td>1.00</td>\n",
              "      <td>-0.584520</td>\n",
              "      <td>0.0</td>\n",
              "      <td>-0.786706</td>\n",
              "      <td>-0.474372</td>\n",
              "      <td>-0.946216</td>\n",
              "      <td>0.378291</td>\n",
              "      <td>-0.740922</td>\n",
              "      <td>-1.090773</td>\n",
              "      <td>-0.029412</td>\n",
              "      <td>-0.130901</td>\n",
              "      <td>0.216146</td>\n",
              "    </tr>\n",
              "    <tr>\n",
              "      <th>401</th>\n",
              "      <td>-0.078929</td>\n",
              "      <td>4.00</td>\n",
              "      <td>-1.303361</td>\n",
              "      <td>0.0</td>\n",
              "      <td>-1.033391</td>\n",
              "      <td>0.569514</td>\n",
              "      <td>-1.389703</td>\n",
              "      <td>1.560026</td>\n",
              "      <td>-0.624360</td>\n",
              "      <td>-0.747331</td>\n",
              "      <td>-0.500000</td>\n",
              "      <td>-0.017996</td>\n",
              "      <td>-0.514062</td>\n",
              "    </tr>\n",
              "    <tr>\n",
              "      <th>402</th>\n",
              "      <td>3.491566</td>\n",
              "      <td>0.00</td>\n",
              "      <td>1.033237</td>\n",
              "      <td>0.0</td>\n",
              "      <td>1.561057</td>\n",
              "      <td>0.561474</td>\n",
              "      <td>0.931450</td>\n",
              "      <td>-0.317257</td>\n",
              "      <td>1.706891</td>\n",
              "      <td>1.578434</td>\n",
              "      <td>0.441176</td>\n",
              "      <td>-13.876741</td>\n",
              "      <td>1.285937</td>\n",
              "    </tr>\n",
              "    <tr>\n",
              "      <th>403</th>\n",
              "      <td>-0.010453</td>\n",
              "      <td>0.00</td>\n",
              "      <td>-0.352167</td>\n",
              "      <td>0.0</td>\n",
              "      <td>-0.310348</td>\n",
              "      <td>0.261307</td>\n",
              "      <td>0.602411</td>\n",
              "      <td>-0.139167</td>\n",
              "      <td>-0.507797</td>\n",
              "      <td>-0.120700</td>\n",
              "      <td>0.647059</td>\n",
              "      <td>-15.802046</td>\n",
              "      <td>-0.030729</td>\n",
              "    </tr>\n",
              "  </tbody>\n",
              "</table>\n",
              "<p>404 rows × 13 columns</p>\n",
              "</div>\n",
              "      <button class=\"colab-df-convert\" onclick=\"convertToInteractive('df-d25eedd1-4e96-4a4c-804e-3b504c9b73ad')\"\n",
              "              title=\"Convert this dataframe to an interactive table.\"\n",
              "              style=\"display:none;\">\n",
              "        \n",
              "  <svg xmlns=\"http://www.w3.org/2000/svg\" height=\"24px\"viewBox=\"0 0 24 24\"\n",
              "       width=\"24px\">\n",
              "    <path d=\"M0 0h24v24H0V0z\" fill=\"none\"/>\n",
              "    <path d=\"M18.56 5.44l.94 2.06.94-2.06 2.06-.94-2.06-.94-.94-2.06-.94 2.06-2.06.94zm-11 1L8.5 8.5l.94-2.06 2.06-.94-2.06-.94L8.5 2.5l-.94 2.06-2.06.94zm10 10l.94 2.06.94-2.06 2.06-.94-2.06-.94-.94-2.06-.94 2.06-2.06.94z\"/><path d=\"M17.41 7.96l-1.37-1.37c-.4-.4-.92-.59-1.43-.59-.52 0-1.04.2-1.43.59L10.3 9.45l-7.72 7.72c-.78.78-.78 2.05 0 2.83L4 21.41c.39.39.9.59 1.41.59.51 0 1.02-.2 1.41-.59l7.78-7.78 2.81-2.81c.8-.78.8-2.07 0-2.86zM5.41 20L4 18.59l7.72-7.72 1.47 1.35L5.41 20z\"/>\n",
              "  </svg>\n",
              "      </button>\n",
              "      \n",
              "  <style>\n",
              "    .colab-df-container {\n",
              "      display:flex;\n",
              "      flex-wrap:wrap;\n",
              "      gap: 12px;\n",
              "    }\n",
              "\n",
              "    .colab-df-convert {\n",
              "      background-color: #E8F0FE;\n",
              "      border: none;\n",
              "      border-radius: 50%;\n",
              "      cursor: pointer;\n",
              "      display: none;\n",
              "      fill: #1967D2;\n",
              "      height: 32px;\n",
              "      padding: 0 0 0 0;\n",
              "      width: 32px;\n",
              "    }\n",
              "\n",
              "    .colab-df-convert:hover {\n",
              "      background-color: #E2EBFA;\n",
              "      box-shadow: 0px 1px 2px rgba(60, 64, 67, 0.3), 0px 1px 3px 1px rgba(60, 64, 67, 0.15);\n",
              "      fill: #174EA6;\n",
              "    }\n",
              "\n",
              "    [theme=dark] .colab-df-convert {\n",
              "      background-color: #3B4455;\n",
              "      fill: #D2E3FC;\n",
              "    }\n",
              "\n",
              "    [theme=dark] .colab-df-convert:hover {\n",
              "      background-color: #434B5C;\n",
              "      box-shadow: 0px 1px 3px 1px rgba(0, 0, 0, 0.15);\n",
              "      filter: drop-shadow(0px 1px 2px rgba(0, 0, 0, 0.3));\n",
              "      fill: #FFFFFF;\n",
              "    }\n",
              "  </style>\n",
              "\n",
              "      <script>\n",
              "        const buttonEl =\n",
              "          document.querySelector('#df-d25eedd1-4e96-4a4c-804e-3b504c9b73ad button.colab-df-convert');\n",
              "        buttonEl.style.display =\n",
              "          google.colab.kernel.accessAllowed ? 'block' : 'none';\n",
              "\n",
              "        async function convertToInteractive(key) {\n",
              "          const element = document.querySelector('#df-d25eedd1-4e96-4a4c-804e-3b504c9b73ad');\n",
              "          const dataTable =\n",
              "            await google.colab.kernel.invokeFunction('convertToInteractive',\n",
              "                                                     [key], {});\n",
              "          if (!dataTable) return;\n",
              "\n",
              "          const docLinkHtml = 'Like what you see? Visit the ' +\n",
              "            '<a target=\"_blank\" href=https://colab.research.google.com/notebooks/data_table.ipynb>data table notebook</a>'\n",
              "            + ' to learn more about interactive tables.';\n",
              "          element.innerHTML = '';\n",
              "          dataTable['output_type'] = 'display_data';\n",
              "          await google.colab.output.renderOutput(dataTable, element);\n",
              "          const docLink = document.createElement('div');\n",
              "          docLink.innerHTML = docLinkHtml;\n",
              "          element.appendChild(docLink);\n",
              "        }\n",
              "      </script>\n",
              "    </div>\n",
              "  </div>\n",
              "  "
            ]
          },
          "metadata": {},
          "execution_count": 19
        }
      ]
    },
    {
      "cell_type": "markdown",
      "source": [
        "We first import the LinearRegression class from scikit-learn. Then we create an instance of the class, which is our linear regression model. We use the \"fit\" method to train the model on our training data (X_train and y_train). Finally, we use the \"predict\" method to make predictions on our test data (X_test) and store the results in the variable \"y_pred\"."
      ],
      "metadata": {
        "id": "MVELgHUU2Lms"
      }
    },
    {
      "cell_type": "code",
      "source": [
        "from sklearn.linear_model import LinearRegression\n",
        "\n",
        "# Create an instance of the linear regression model\n",
        "lin_reg = LinearRegression()\n",
        "\n",
        "# Fit the model to the training data\n",
        "lin_reg.fit(X_train, y_train)\n",
        "\n",
        "# Make predictions on the test data\n",
        "y_pred = lin_reg.predict(X_test)\n",
        "print(y_pred)"
      ],
      "metadata": {
        "id": "ckEwU6OT1FpU",
        "colab": {
          "base_uri": "https://localhost:8080/"
        },
        "outputId": "90a53687-6c33-4bc6-b45f-e21e4f9f167b"
      },
      "execution_count": 21,
      "outputs": [
        {
          "output_type": "stream",
          "name": "stdout",
          "text": [
            "[[28.99672362]\n",
            " [36.02556534]\n",
            " [14.81694405]\n",
            " [25.03197915]\n",
            " [18.76987992]\n",
            " [23.25442929]\n",
            " [17.66253818]\n",
            " [14.34119   ]\n",
            " [23.01320703]\n",
            " [20.63245597]\n",
            " [24.90850512]\n",
            " [18.63883645]\n",
            " [-6.08842184]\n",
            " [21.75834668]\n",
            " [19.23922576]\n",
            " [26.19319733]\n",
            " [20.64773313]\n",
            " [ 5.79472718]\n",
            " [40.50033966]\n",
            " [17.61289074]\n",
            " [27.24909479]\n",
            " [30.06625441]\n",
            " [11.34179277]\n",
            " [24.16077616]\n",
            " [17.86058499]\n",
            " [15.83609765]\n",
            " [22.78148106]\n",
            " [14.57704449]\n",
            " [22.43626052]\n",
            " [19.19631835]\n",
            " [22.43383455]\n",
            " [25.21979081]\n",
            " [25.93909562]\n",
            " [17.70162434]\n",
            " [16.76911711]\n",
            " [16.95125411]\n",
            " [31.23340153]\n",
            " [20.13246729]\n",
            " [23.76579011]\n",
            " [24.6322925 ]\n",
            " [13.94204955]\n",
            " [32.25576301]\n",
            " [42.67251161]\n",
            " [17.32745046]\n",
            " [27.27618614]\n",
            " [16.99310991]\n",
            " [14.07009109]\n",
            " [25.90341861]\n",
            " [20.29485982]\n",
            " [29.95339638]\n",
            " [21.28860173]\n",
            " [34.34451856]\n",
            " [16.04739105]\n",
            " [26.22562412]\n",
            " [39.53939798]\n",
            " [22.57950697]\n",
            " [18.84531367]\n",
            " [32.72531661]\n",
            " [25.0673037 ]\n",
            " [12.88628956]\n",
            " [22.68221908]\n",
            " [30.48287757]\n",
            " [31.52626806]\n",
            " [15.90148607]\n",
            " [20.22094826]\n",
            " [16.71089812]\n",
            " [20.52384893]\n",
            " [25.96356264]\n",
            " [30.61607978]\n",
            " [11.59783023]\n",
            " [20.51232627]\n",
            " [27.48111878]\n",
            " [11.01962332]\n",
            " [15.68096344]\n",
            " [23.79316251]\n",
            " [ 6.19929359]\n",
            " [21.6039073 ]\n",
            " [41.41377225]\n",
            " [18.76548695]\n",
            " [ 8.87931901]\n",
            " [20.83076916]\n",
            " [13.25620627]\n",
            " [20.73963699]\n",
            " [ 9.36482222]\n",
            " [23.22444271]\n",
            " [31.9155003 ]\n",
            " [19.10228271]\n",
            " [25.51579303]\n",
            " [29.04256769]\n",
            " [20.14358566]\n",
            " [25.5859787 ]\n",
            " [ 5.70159447]\n",
            " [20.09474756]\n",
            " [14.95069156]\n",
            " [12.50395648]\n",
            " [20.72635294]\n",
            " [24.73957161]\n",
            " [-0.164237  ]\n",
            " [13.68486682]\n",
            " [16.18359697]\n",
            " [22.27621999]\n",
            " [24.47902364]]\n"
          ]
        }
      ]
    },
    {
      "cell_type": "markdown",
      "source": [
        " A different regression model is a decision tree regression. This model will use the training data to create a decision tree that can be used to make predictions on the test data. The decision tree will split the data based on the feature that results in the highest decrease in impurity (using a metric like mean squared error).\n",
        "\n",
        "The hyperparameters of the model can also be tuned , like the maximum depth of the tree or the minimum number of samples required to split a node, to improve its performance."
      ],
      "metadata": {
        "id": "Ftoh7C-FENrN"
      }
    },
    {
      "cell_type": "code",
      "source": [
        "from sklearn.tree import DecisionTreeRegressor\n",
        "\n",
        "# Create a decision tree regression model\n",
        "dt_reg = DecisionTreeRegressor(random_state=0)\n",
        "\n",
        "# Fit the model to the training data\n",
        "dt_reg.fit(X_train, y_train)\n",
        "\n",
        "# Make predictions on the test data\n",
        "y_pred = dt_reg.predict(X_test)\n",
        "print(y_pred)"
      ],
      "metadata": {
        "id": "ebnZfRUyD8AQ",
        "colab": {
          "base_uri": "https://localhost:8080/"
        },
        "outputId": "852af470-a842-4390-ff89-1a65e977c83e"
      },
      "execution_count": 22,
      "outputs": [
        {
          "output_type": "stream",
          "name": "stdout",
          "text": [
            "[28.1 33.1 17.3 21.7 23.2 18.5 16.6 16.6 22.7 22.  20.5 21.4  7.2 20.6\n",
            " 18.7 25.  19.5 10.5 44.  16.7 22.6 23.7 13.6 23.8 13.8 11.7 21.2 13.5\n",
            " 19.4 20.8 19.5 23.1 17.8 14.5 13.3 15.6 33.4 19.  21.7 24.8 19.8 28.4\n",
            " 46.  19.3 22.  13.  14.3 23.7 17.5 35.1 21.7 36.1 16.6 32.  43.1 19.5\n",
            " 15.2 28.  21.6 22.5 24.8 33.  29.8 16.1 22.8 14.4 15.4 23.2 26.6 14.1\n",
            " 21.2 28.7  8.3 18.6 21.4 10.5 19.8 50.  13.3  8.1 21.2 16.3 19.4 10.5\n",
            " 14.5 29.9 14.3 23.  23.1 18.1 22.8  8.8 19.8 17.5 16.2 19.8 50.  16.3\n",
            " 11.7 16.3 18.5 28.1]\n"
          ]
        }
      ]
    },
    {
      "cell_type": "markdown",
      "source": [
        "#- Exercise 2\n",
        "\n",
        "Compare them based on MSE and R2."
      ],
      "metadata": {
        "id": "Qev-vSr58GKS"
      }
    },
    {
      "cell_type": "code",
      "source": [
        "from sklearn.metrics import mean_squared_error\n",
        "y_pred = lin_reg.predict(X_test)\n",
        "mse = mean_squared_error(y_test, y_pred)\n",
        "print(\"Mean Squared Error:\", mse)"
      ],
      "metadata": {
        "colab": {
          "base_uri": "https://localhost:8080/"
        },
        "id": "AFHvrYR-52Io",
        "outputId": "427c7776-ba63-4b40-e889-bd27001a07c3"
      },
      "execution_count": 23,
      "outputs": [
        {
          "output_type": "stream",
          "name": "stdout",
          "text": [
            "Mean Squared Error: 24.291119474973616\n"
          ]
        }
      ]
    },
    {
      "cell_type": "code",
      "source": [
        "from sklearn.metrics import r2_score\n",
        "\n",
        "y_pred = lin_reg.predict(X_test)\n",
        "accuracy = r2_score(y_test, y_pred)\n",
        "\n",
        "print(\"Accuracy:\", accuracy)"
      ],
      "metadata": {
        "colab": {
          "base_uri": "https://localhost:8080/"
        },
        "id": "txGAkf766goV",
        "outputId": "993cbecf-2893-402b-88e2-7748efcd3a93"
      },
      "execution_count": 24,
      "outputs": [
        {
          "output_type": "stream",
          "name": "stdout",
          "text": [
            "Accuracy: 0.6687594935356307\n"
          ]
        }
      ]
    },
    {
      "cell_type": "code",
      "source": [
        "from sklearn.metrics import mean_squared_error\n",
        "y_pred = dt_reg.predict(X_test)\n",
        "mse = mean_squared_error(y_test, y_pred)\n",
        "print(\"Mean Squared Error:\", mse)"
      ],
      "metadata": {
        "colab": {
          "base_uri": "https://localhost:8080/"
        },
        "id": "m-28E6Yw61Ja",
        "outputId": "b1a743fd-40c2-4b0d-d84c-ef6cccd6a993"
      },
      "execution_count": 25,
      "outputs": [
        {
          "output_type": "stream",
          "name": "stdout",
          "text": [
            "Mean Squared Error: 10.090098039215684\n"
          ]
        }
      ]
    },
    {
      "cell_type": "code",
      "source": [
        "from sklearn.metrics import r2_score\n",
        "\n",
        "y_pred = dt_reg.predict(X_test)\n",
        "accuracy = r2_score(y_test, y_pred)\n",
        "\n",
        "print(\"Accuracy:\", accuracy)"
      ],
      "metadata": {
        "colab": {
          "base_uri": "https://localhost:8080/"
        },
        "id": "VGn5WfgD63XS",
        "outputId": "6f1d873e-2ebe-46fc-df17-9b2af4dfbc03"
      },
      "execution_count": 26,
      "outputs": [
        {
          "output_type": "stream",
          "name": "stdout",
          "text": [
            "Accuracy: 0.862408597996961\n"
          ]
        }
      ]
    },
    {
      "cell_type": "markdown",
      "source": [
        "#- Exercise 3\n",
        "\n",
        "Train them using the different parameters they support to try to improve their prediction."
      ],
      "metadata": {
        "id": "zk9jYWyO8_mq"
      }
    },
    {
      "cell_type": "markdown",
      "source": [
        "To train the linear regression model with different parameters, GridSearchCV or RandomizedSearchCV from scikit-learn's model_selection library can be used. These methods allow defining a range of parameters and their values, and then train and test the model using these different combinations of parameters. The GridSearchCV method performs an exhaustive search of all possible combinations of parameters, while the RandomizedSearchCV method performs a random search of a specified number of parameter combinations."
      ],
      "metadata": {
        "id": "Mmmk7EoT-TSq"
      }
    },
    {
      "cell_type": "code",
      "source": [
        "from sklearn.model_selection import GridSearchCV\n",
        "\n",
        "# Define the parameters you want to search through\n",
        "param_grid = {'fit_intercept':[True,False], 'normalize':[True,False], 'copy_X':[True, False]}\n",
        "\n",
        "# Create the grid search object\n",
        "lin_reg = LinearRegression()\n",
        "grid_search = GridSearchCV(lin_reg, param_grid, cv=5, scoring='neg_mean_squared_error')\n",
        "\n",
        "# Fit the grid search to the data\n",
        "grid_search.fit(X_train, y_train)\n",
        "\n",
        "# Print the best parameters and score\n",
        "print(\"Best parameters: \", grid_search.best_params_)\n",
        "print(\"Best score: \", grid_search.best_score_)\n",
        "\n",
        "# Use the best parameters to make predictions\n",
        "lin_reg = grid_search.best_estimator_\n",
        "y_pred = lin_reg.predict(X_test)\n",
        "\n",
        "# Evaluate the accuracy of the predictions\n",
        "from sklearn.metrics import mean_squared_error\n",
        "mse = mean_squared_error(y_test, y_pred)\n",
        "print(\"Mean squared error: \", mse)\n",
        "\n",
        "accuracy = r2_score(y_test, y_pred)\n",
        "\n",
        "print(\"Accuracy:\", accuracy)"
      ],
      "metadata": {
        "colab": {
          "base_uri": "https://localhost:8080/"
        },
        "id": "beAkK2KV9DWq",
        "outputId": "a9558649-cc3f-4cd4-f0db-48a9ff87e52a"
      },
      "execution_count": 27,
      "outputs": [
        {
          "output_type": "stream",
          "name": "stdout",
          "text": [
            "Best parameters:  {'copy_X': True, 'fit_intercept': True, 'normalize': True}\n",
            "Best score:  -23.65441827030464\n",
            "Mean squared error:  24.291119474973527\n",
            "Accuracy: 0.6687594935356318\n"
          ]
        }
      ]
    },
    {
      "cell_type": "code",
      "source": [
        "# Fit the model to the training data\n",
        "lin_reg.fit(X_train, y_train)\n",
        "\n"
      ],
      "metadata": {
        "colab": {
          "base_uri": "https://localhost:8080/"
        },
        "id": "KiI9C8sq-5tU",
        "outputId": "26571565-a472-4a65-eb9a-73912b90e999"
      },
      "execution_count": 28,
      "outputs": [
        {
          "output_type": "execute_result",
          "data": {
            "text/plain": [
              "LinearRegression(normalize=True)"
            ]
          },
          "metadata": {},
          "execution_count": 28
        }
      ]
    },
    {
      "cell_type": "code",
      "source": [
        "from sklearn.metrics import r2_score\n",
        "\n",
        "y_pred = lin_reg.predict(X_test)\n",
        "accuracy = r2_score(y_test, y_pred)\n",
        "\n",
        "print(\"Accuracy:\", accuracy)"
      ],
      "metadata": {
        "colab": {
          "base_uri": "https://localhost:8080/"
        },
        "id": "avT3b3go_XZ-",
        "outputId": "5b007e7f-a09f-45dc-c0ba-631c3085289f"
      },
      "execution_count": 29,
      "outputs": [
        {
          "output_type": "stream",
          "name": "stdout",
          "text": [
            "Accuracy: 0.6687594935356318\n"
          ]
        }
      ]
    },
    {
      "cell_type": "code",
      "source": [
        "from sklearn.tree import DecisionTreeRegressor\n",
        "from sklearn.model_selection import GridSearchCV\n",
        "\n",
        "dt_reg = DecisionTreeRegressor()\n",
        "\n",
        "param_grid = {'max_depth':[3,5,7,10], 'min_samples_leaf':[1,2,5,10]}\n",
        "\n",
        "grid_search = GridSearchCV(dt_reg, param_grid, scoring='neg_mean_squared_error')\n",
        "grid_search.fit(X_train, y_train)\n",
        "\n",
        "best_params = grid_search.best_params_\n",
        "best_score = grid_search.best_score_\n",
        "\n",
        "dt_reg = DecisionTreeRegressor(**best_params)\n",
        "dt_reg.fit(X_train, y_train)\n",
        "\n",
        "y_pred_dt = dt_reg.predict(X_test)\n",
        "\n",
        "print('The best parameters are: ', best_params)\n",
        "print('The best score is: ', best_score)\n",
        "\n",
        "from sklearn.metrics import r2_score\n",
        "\n",
        "r2 = r2_score(y_test, y_pred_dt)\n",
        "print(\"R2 Score: \", r2)"
      ],
      "metadata": {
        "colab": {
          "base_uri": "https://localhost:8080/"
        },
        "id": "nCHImXXpZJun",
        "outputId": "806182ad-ca0b-40df-a0e2-b7d776a9bfb3"
      },
      "execution_count": 32,
      "outputs": [
        {
          "output_type": "stream",
          "name": "stdout",
          "text": [
            "The best parameters are:  {'max_depth': 7, 'min_samples_leaf': 10}\n",
            "The best score is:  -21.97897931196132\n",
            "R2 Score:  0.7812474562261831\n"
          ]
        }
      ]
    },
    {
      "cell_type": "markdown",
      "source": [
        "#- Exercise 4\n",
        "\n",
        "Compare your performance using the traint/test approach or using all data (internal validation)."
      ],
      "metadata": {
        "id": "YIO6FNk_9Dzh"
      }
    },
    {
      "cell_type": "code",
      "source": [
        "lin_reg_all = LinearRegression()\n",
        "lin_reg_all.fit(X, y)\n",
        "\n",
        "y_pred_all = lin_reg_all.predict(X)\n",
        "\n",
        "\n",
        "mse_all = mean_squared_error(y, y_pred_all)\n",
        "print(\"Mean squared error (internal validation): \", mse_all)\n",
        "\n",
        "accuracy_all = r2_score(y, y_pred_all)\n",
        "print(\"Accuracy (internal validation):\", accuracy_all)"
      ],
      "metadata": {
        "id": "0uDLgj8F9cWh",
        "colab": {
          "base_uri": "https://localhost:8080/"
        },
        "outputId": "fc36e4c5-37f4-47e0-f495-d6c160190591"
      },
      "execution_count": 34,
      "outputs": [
        {
          "output_type": "stream",
          "name": "stdout",
          "text": [
            "Mean squared error (internal validation):  21.894831181729202\n",
            "Accuracy (internal validation): 0.7406426641094095\n"
          ]
        }
      ]
    },
    {
      "cell_type": "markdown",
      "source": [
        "#- Exercise 5\n",
        "\n",
        "Do not use the number of rooms (RM) variable when making predictions."
      ],
      "metadata": {
        "id": "DuAQEo1n9crR"
      }
    },
    {
      "cell_type": "code",
      "source": [
        "X_train_df = X_train_df.drop(columns=['RM'])\n",
        "X_test_df = X_test_df.drop(columns=['RM'])\n",
        "\n",
        "# Fit the grid search to the data\n",
        "grid_search.fit(X_train, y_train)\n",
        "\n",
        "# Use the best parameters to make predictions\n",
        "lin_reg = grid_search.best_estimator_\n",
        "y_pred = lin_reg.predict(X_test)\n",
        "\n",
        "# Evaluate the accuracy of the predictions\n",
        "mse = mean_squared_error(y_test, y_pred)\n",
        "print(\"Mean squared error: \", mse)\n",
        "\n",
        "accuracy = r2_score(y_test, y_pred)\n",
        "\n",
        "print(\"Accuracy:\", accuracy)\n"
      ],
      "metadata": {
        "colab": {
          "base_uri": "https://localhost:8080/"
        },
        "id": "VurAkwxyacva",
        "outputId": "dde693ee-02d1-448c-95f5-9f0f3de37c08"
      },
      "execution_count": 40,
      "outputs": [
        {
          "output_type": "stream",
          "name": "stdout",
          "text": [
            "Mean squared error:  24.291119474973527\n",
            "Accuracy: 0.6687594935356318\n"
          ]
        }
      ]
    },
    {
      "cell_type": "code",
      "source": [
        "X = df.drop(['RM', 'MEDV'], axis=1)\n",
        "y = df['MEDV']\n",
        "\n",
        "# Define the parameters you want to search through\n",
        "param_grid = {'fit_intercept':[True,False], 'normalize':[True,False], 'copy_X':[True, False]}\n",
        "\n",
        "# Create the grid search object\n",
        "lin_reg = LinearRegression()\n",
        "grid_search = GridSearchCV(lin_reg, param_grid, cv=5, scoring='neg_mean_squared_error')\n",
        "\n",
        "# Fit the grid search to the data\n",
        "grid_search.fit(X, y)\n",
        "\n",
        "# Print the best parameters and score\n",
        "print(\"Best parameters: \", grid_search.best_params_)\n",
        "print(\"Best score: \", grid_search.best_score_)\n",
        "\n",
        "# Use the best parameters to make predictions\n",
        "lin_reg = grid_search.best_estimator_\n",
        "y_pred = lin_reg.predict(X)\n",
        "\n",
        "# Evaluate the accuracy of the predictions\n",
        "from sklearn.metrics import mean_squared_error\n",
        "mse = mean_squared_error(y, y_pred)\n",
        "print(\"Mean squared error: \", mse)\n",
        "\n",
        "accuracy = r2_score(y, y_pred)\n",
        "\n",
        "print(\"Accuracy:\", accuracy)\n"
      ],
      "metadata": {
        "colab": {
          "base_uri": "https://localhost:8080/"
        },
        "id": "5y2lxH_tap7q",
        "outputId": "7da7535e-f00e-4a7c-da01-cbe6936fba2f"
      },
      "execution_count": 39,
      "outputs": [
        {
          "output_type": "stream",
          "name": "stdout",
          "text": [
            "Best parameters:  {'copy_X': True, 'fit_intercept': True, 'normalize': False}\n",
            "Best score:  -30.458873233689662\n",
            "Mean squared error:  25.593100117551227\n",
            "Accuracy: 0.6968344625005228\n"
          ]
        }
      ]
    },
    {
      "cell_type": "code",
      "source": [],
      "metadata": {
        "id": "upkJH681aozH"
      },
      "execution_count": null,
      "outputs": []
    }
  ]
}